{
 "cells": [
  {
   "cell_type": "markdown",
   "metadata": {},
   "source": [
    "## Enabling GoogleAuth for Fast API"
   ]
  },
  {
   "cell_type": "markdown",
   "metadata": {},
   "source": [
    "## Integrating FastAPI with Google Authentication\n",
    "\n",
    "Integrating FastAPI with Google Authentication involves using Google’s OAuth 2.0 protocol to allow users to log in to your FastAPI application using their Google credentials. Here are the general steps to achieve this integration:\n",
    "\n",
    "### 1. Create a Project in Google Cloud Console\n",
    "1. Go to the [Google Cloud Console](https://console.cloud.google.com/) and create a new project if you haven’t already.\n",
    "2. Enable the “Google+ API” in the **APIs & Services > Dashboard** section.\n",
    "\n",
    "### 2. Create OAuth 2.0 Credentials\n",
    "1. In the Google Cloud Console, go to **APIs & Services > Credentials**.\n",
    "2. Click on **Create Credentials** and select **OAuth client ID**.\n",
    "3. Choose **Web application** as the application type.\n",
    "4. Add your FastAPI application’s URL (e.g., `http://localhost:8000`) to the **Authorized redirect URIs**.\n",
    "\n",
    "### 3. Install Required Libraries\n",
    "Install the necessary Python libraries using pip:\n"
   ]
  },
  {
   "cell_type": "code",
   "execution_count": null,
   "metadata": {},
   "outputs": [],
   "source": [
    "%pip install fastapi\n",
    "%pip install uvicorn\n",
    "%pip install python-jose[cryptography]\n",
    "%pip install python-multipart\n",
    "%pip install requests"
   ]
  },
  {
   "cell_type": "markdown",
   "metadata": {},
   "source": [
    "## Implementing Google Authentication in FastAPI\n",
    "\n",
    "Below is a simple example of how you can integrate Google Authentication with FastAPI:"
   ]
  },
  {
   "cell_type": "code",
   "execution_count": null,
   "metadata": {},
   "outputs": [],
   "source": [
    "from fastapi import FastAPI, Depends\n",
    "from fastapi.security import OAuth2PasswordBearer\n",
    "import requests\n",
    "from jose import jwt\n",
    "\n",
    "app = FastAPI()\n",
    "oauth2_scheme = OAuth2PasswordBearer(tokenUrl=\"token\")\n",
    "\n",
    "# Replace these with your own values from the Google Developer Console\n",
    "GOOGLE_CLIENT_ID = \"your-google-client-id\"\n",
    "GOOGLE_CLIENT_SECRET = \"your-google-client-secret\"\n",
    "GOOGLE_REDIRECT_URI = \"your-google-redirect-uri\"\n",
    "\n",
    "@app.get(\"/login/google\")\n",
    "async def login_google():\n",
    "    return {\n",
    "        \"url\": f\"https://accounts.google.com/o/oauth2/auth?response_type=code&client_id={GOOGLE_CLIENT_ID}&redirect_uri={GOOGLE_REDIRECT_URI}&scope=openid%20profile%20email&access_type=offline\"\n",
    "    }\n",
    "\n",
    "@app.get(\"/auth/google\")\n",
    "async def auth_google(code: str):\n",
    "    token_url = \"https://accounts.google.com/o/oauth2/token\"\n",
    "    data = {\n",
    "        \"code\": code,\n",
    "        \"client_id\": GOOGLE_CLIENT_ID,\n",
    "        \"client_secret\": GOOGLE_CLIENT_SECRET,\n",
    "        \"redirect_uri\": GOOGLE_REDIRECT_URI,\n",
    "        \"grant_type\": \"authorization_code\",\n",
    "    }\n",
    "    response = requests.post(token_url, data=data)\n",
    "    access_token = response.json().get(\"access_token\")\n",
    "    user_info = requests.get(\"https://www.googleapis.com/oauth2/v1/userinfo\", headers={\"Authorization\": f\"Bearer {access_token}\"})\n",
    "    return user_info.json()\n",
    "\n",
    "@app.get(\"/token\")\n",
    "async def get_token(token: str = Depends(oauth2_scheme)):\n",
    "    return jwt.decode(token, GOOGLE_CLIENT_SECRET, algorithms=[\"HS256\"])\n",
    "\n",
    "if __name__ == \"__main__\":\n",
    "    import uvicorn\n",
    "\n",
    "    uvicorn.run(app, host=\"0.0.0.0\", port=8000)"
   ]
  },
  {
   "cell_type": "markdown",
   "metadata": {},
   "source": [
    "This example provides two endpoints: `/login/google` for initiating the Google login flow and `/auth/google` for exchanging the authorization code for an access token. The user's information can be retrieved from Google's userinfo endpoint. Additionally, it includes an endpoint `/token` to decode and verify the JWT token obtained after successful authentication.\n",
    "\n",
    "Remember to replace `your-google-client-id`, `your-google-client-secret`, and `your-google-redirect-uri` with the appropriate values from your Google Cloud Console project.\n",
    "\n",
    "### Run the FastAPI Application\n",
    "Save the code in a file (e.g., `main.py`) and run the FastAPI application using Uvicorn:\n",
    "\n",
    "```bash\n",
    "uvicorn main:app --reload\n"
   ]
  },
  {
   "cell_type": "markdown",
   "metadata": {},
   "source": [
    "With these steps, your FastAPI application should be integrated with Google Authentication, allowing users to log in using their Google accounts. Please note that this is a simple example, and in a real-world scenario, you would need to handle error cases, store user information securely, and possibly add database integration for user management."
   ]
  }
 ],
 "metadata": {
  "kernelspec": {
   "display_name": "Python 3",
   "language": "python",
   "name": "python3"
  },
  "language_info": {
   "name": "python",
   "version": "3.12.2"
  }
 },
 "nbformat": 4,
 "nbformat_minor": 2
}
