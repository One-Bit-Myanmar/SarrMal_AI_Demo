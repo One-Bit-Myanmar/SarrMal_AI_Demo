{
 "cells": [
  {
   "cell_type": "markdown",
   "metadata": {},
   "source": [
    "## Enabling GoogleAuth for Fast API"
   ]
  },
  {
   "cell_type": "markdown",
   "metadata": {},
   "source": [
    "## Integrating FastAPI with Google Authentication\n",
    "\n",
    "Integrating FastAPI with Google Authentication involves using Google’s OAuth 2.0 protocol to allow users to log in to your FastAPI application using their Google credentials. Here are the general steps to achieve this integration:\n",
    "\n",
    "### 1. Create a Project in Google Cloud Console\n",
    "1. Go to the [Google Cloud Console](https://console.cloud.google.com/) and create a new project if you haven’t already.\n",
    "2. Enable the “Google+ API” in the **APIs & Services > Dashboard** section.\n",
    "\n",
    "### 2. Create OAuth 2.0 Credentials\n",
    "1. In the Google Cloud Console, go to **APIs & Services > Credentials**.\n",
    "2. Click on **Create Credentials** and select **OAuth client ID**.\n",
    "3. Choose **Web application** as the application type.\n",
    "4. Add your FastAPI application’s URL (e.g., `http://localhost:8000`) to the **Authorized redirect URIs**.\n",
    "\n",
    "### 3. Install Required Libraries\n",
    "Install the necessary Python libraries using pip:\n"
   ]
  },
  {
   "cell_type": "code",
   "execution_count": null,
   "metadata": {},
   "outputs": [],
   "source": [
    "%pip install fastapi\n",
    "%pip install uvicorn\n",
    "%pip install python-jose[cryptography]\n",
    "%pip install python-multipart\n",
    "%pip install requests"
   ]
  }
 ],
 "metadata": {
  "kernelspec": {
   "display_name": "Python 3",
   "language": "python",
   "name": "python3"
  },
  "language_info": {
   "name": "python",
   "version": "3.12.2"
  }
 },
 "nbformat": 4,
 "nbformat_minor": 2
}
